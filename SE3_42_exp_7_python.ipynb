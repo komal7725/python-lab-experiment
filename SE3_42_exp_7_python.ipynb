{
  "nbformat": 4,
  "nbformat_minor": 0,
  "metadata": {
    "colab": {
      "provenance": []
    },
    "kernelspec": {
      "name": "python3",
      "display_name": "Python 3"
    },
    "language_info": {
      "name": "python"
    }
  },
  "cells": [
    {
      "cell_type": "markdown",
      "source": [
        "Komal Chandrasen Talekar SE3-42"
      ],
      "metadata": {
        "id": "0aMnh4EORWls"
      }
    },
    {
      "cell_type": "markdown",
      "source": [
        "### Importing"
      ],
      "metadata": {
        "id": "XZmMp1gsRpsm"
      }
    },
    {
      "cell_type": "code",
      "execution_count": 1,
      "metadata": {
        "id": "FDqUSNyvQuLE"
      },
      "outputs": [],
      "source": [
        "import sqlite3"
      ]
    },
    {
      "cell_type": "markdown",
      "source": [
        "### Connecting to Database"
      ],
      "metadata": {
        "id": "fIBe29NPR0B1"
      }
    },
    {
      "cell_type": "code",
      "source": [
        "connection = sqlite3.connect ('./genericDatabase.db')\n",
        "cursor = connection.cursor ()"
      ],
      "metadata": {
        "id": "5_yPlQnsQ2pW"
      },
      "execution_count": 2,
      "outputs": []
    },
    {
      "cell_type": "markdown",
      "source": [
        "### Create Table"
      ],
      "metadata": {
        "id": "A-_LgvNMR8-d"
      }
    },
    {
      "cell_type": "code",
      "source": [
        "cursor.execute('''\n",
        "    CREATE TABLE IF NOT EXISTS students (\n",
        "        id INTEGER PRIMARY KEY AUTOINCREMENT,\n",
        "        name TEXT NOT NULL,\n",
        "        age INTEGER NOT NULL\n",
        "    )\n",
        "''')\n",
        "\n",
        "connection.commit()"
      ],
      "metadata": {
        "id": "T0rJEga3Q2xM"
      },
      "execution_count": 3,
      "outputs": []
    },
    {
      "cell_type": "markdown",
      "source": [
        "### Create (Insertion)"
      ],
      "metadata": {
        "id": "gtKQc6zVSBOu"
      }
    },
    {
      "cell_type": "code",
      "source": [
        "def create_student(name, age):\n",
        "    cursor.execute('''\n",
        "        INSERT INTO students (name, age)\n",
        "        VALUES (?, ?)\n",
        "    ''', (name, age))\n",
        "    connection.commit()\n",
        "    print(\"Record added successfully!\")\n",
        "\n",
        "create_student(\"Griffith\", 20)\n",
        "create_student(\"Guts\", 22)"
      ],
      "metadata": {
        "colab": {
          "base_uri": "https://localhost:8080/"
        },
        "id": "6wUp0RbCQ23l",
        "outputId": "4a9311f8-ff94-44f3-d1a1-e129e81e642d"
      },
      "execution_count": 4,
      "outputs": [
        {
          "output_type": "stream",
          "name": "stdout",
          "text": [
            "Record added successfully!\n",
            "Record added successfully!\n"
          ]
        }
      ]
    },
    {
      "cell_type": "markdown",
      "source": [
        "### Read (Retrieve)"
      ],
      "metadata": {
        "id": "NR04hW9lSMW-"
      }
    },
    {
      "cell_type": "code",
      "source": [
        "def read_students():\n",
        "    cursor.execute('SELECT * FROM students')\n",
        "    rows = cursor.fetchall()\n",
        "    print(\"Student Records:\")\n",
        "    for row in rows:\n",
        "        print(row)\n",
        "\n",
        "read_students()"
      ],
      "metadata": {
        "colab": {
          "base_uri": "https://localhost:8080/"
        },
        "id": "qquWXJrUQ27G",
        "outputId": "b81cc374-827d-410c-8ebc-6ad418723b31"
      },
      "execution_count": 5,
      "outputs": [
        {
          "output_type": "stream",
          "name": "stdout",
          "text": [
            "Student Records:\n",
            "(1, 'Griffith', 20)\n",
            "(2, 'Guts', 22)\n"
          ]
        }
      ]
    },
    {
      "cell_type": "markdown",
      "source": [
        "### Update\n"
      ],
      "metadata": {
        "id": "g0WJJt6kSUQG"
      }
    },
    {
      "cell_type": "code",
      "source": [
        "def update_student_age(student_id, new_age):\n",
        "    cursor.execute('''\n",
        "\n",
        "          UPDATE students SET age=? WHERE id=?\n",
        "\n",
        "\n",
        "\n",
        "    ''', (new_age, student_id))\n",
        "    connection.commit()\n",
        "    print(\"Student age updated successfully!\")\n",
        "\n",
        "update_student_age(1, 21)  # Updating Alice's age to 21\n",
        "read_students()"
      ],
      "metadata": {
        "colab": {
          "base_uri": "https://localhost:8080/"
        },
        "id": "E2hxvCnWQ2-H",
        "outputId": "1eb0ed14-69b9-45e4-e6b2-dce52e08b93b"
      },
      "execution_count": 6,
      "outputs": [
        {
          "output_type": "stream",
          "name": "stdout",
          "text": [
            "Student age updated successfully!\n",
            "Student Records:\n",
            "(1, 'Griffith', 21)\n",
            "(2, 'Guts', 22)\n"
          ]
        }
      ]
    },
    {
      "cell_type": "markdown",
      "source": [
        "### Delete"
      ],
      "metadata": {
        "id": "eDj8f8_8SqmW"
      }
    },
    {
      "cell_type": "code",
      "source": [
        "def delete_student(student_id):\n",
        "    cursor.execute('''\n",
        "          delete from students where id=?\n",
        "\n",
        "\n",
        "    ''', (student_id,))\n",
        "    connection.commit()\n",
        "    print(\"Student deleted successfully!\")\n",
        "\n",
        "delete_student(2)  # Deleting Bob's record\n",
        "read_students()"
      ],
      "metadata": {
        "colab": {
          "base_uri": "https://localhost:8080/"
        },
        "id": "L0H_gdaEQ-xu",
        "outputId": "a3d9b482-0ba6-4f30-a273-e73a1d93e16b"
      },
      "execution_count": 7,
      "outputs": [
        {
          "output_type": "stream",
          "name": "stdout",
          "text": [
            "Student deleted successfully!\n",
            "Student Records:\n",
            "(1, 'Griffith', 21)\n"
          ]
        }
      ]
    },
    {
      "cell_type": "markdown",
      "source": [
        "### Closing the database connection"
      ],
      "metadata": {
        "id": "hsMJFdikSw0-"
      }
    },
    {
      "cell_type": "code",
      "source": [
        "connection.close ()"
      ],
      "metadata": {
        "id": "mndlz3ZbQ3A0"
      },
      "execution_count": 8,
      "outputs": []
    }
  ]
}