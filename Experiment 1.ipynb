{
  "nbformat": 4,
  "nbformat_minor": 0,
  "metadata": {
    "colab": {
      "provenance": []
    },
    "kernelspec": {
      "name": "python3",
      "display_name": "Python 3"
    },
    "language_info": {
      "name": "python"
    }
  },
  "cells": [
    {
      "cell_type": "markdown",
      "source": [
        "# Lists in Python"
      ],
      "metadata": {
        "id": "ORXSAYQ27uDO"
      }
    },
    {
      "cell_type": "markdown",
      "source": [
        "#Dictionary"
      ],
      "metadata": {
        "id": "4KPiB8Bj7GOu"
      }
    },
    {
      "cell_type": "code",
      "source": [
        "d = {1: 'books', 2: 'study', 3: 'learn'}\n",
        "print(d)"
      ],
      "metadata": {
        "colab": {
          "base_uri": "https://localhost:8080/"
        },
        "id": "8EUN2gM92sb1",
        "outputId": "0bed40e3-ee39-48d7-c755-7058a69380ad"
      },
      "execution_count": null,
      "outputs": [
        {
          "output_type": "stream",
          "name": "stdout",
          "text": [
            "{1: 'books', 2: 'study', 3: 'learn'}\n"
          ]
        }
      ]
    },
    {
      "cell_type": "markdown",
      "source": [
        "# Create a Dictionary"
      ],
      "metadata": {
        "id": "0m0xz82b64Me"
      }
    },
    {
      "cell_type": "code",
      "source": [
        "# create dictionary using { }\n",
        "d1 = {1: 'call', 2: 'of', 3: 'duty'}\n",
        "print(d1)\n",
        "\n",
        "# create dictionary using dict() constructor\n",
        "d2 = dict(a = \"clash\", b = \"of\", c = \"Cards\")\n",
        "print(d2)\n",
        "\n",
        "# create dictionary using dict() constructor\n",
        "d3 = dict(a = \"making\", b = \"the world\", c = \"beauty\")\n",
        "print(d3)"
      ],
      "metadata": {
        "colab": {
          "base_uri": "https://localhost:8080/"
        },
        "id": "uFXWI5TQ27LN",
        "outputId": "66e765d6-a564-4ef2-f715-7bbf725c0a6d"
      },
      "execution_count": null,
      "outputs": [
        {
          "output_type": "stream",
          "name": "stdout",
          "text": [
            "{1: 'call', 2: 'of', 3: 'duty'}\n",
            "{'a': 'clash', 'b': 'of', 'c': 'Cards'}\n",
            "{'a': 'making', 'b': 'the world', 'c': 'beauty'}\n"
          ]
        }
      ]
    },
    {
      "cell_type": "markdown",
      "source": [
        "# Accessing Dictionary Items"
      ],
      "metadata": {
        "id": "axrJd1tx6v0f"
      }
    },
    {
      "cell_type": "code",
      "source": [
        "d = { \"name\": \"wonderland\", 1: \"java\", (1, 2): [1,2,4] }\n",
        "\n",
        "# Access using key\n",
        "print(d[\"name\"])\n",
        "\n",
        "# Access using get()\n",
        "print(d.get(\"name\"))"
      ],
      "metadata": {
        "colab": {
          "base_uri": "https://localhost:8080/"
        },
        "id": "wAWWr9Ni4hhG",
        "outputId": "008e2939-da87-424d-f445-e363800503a6"
      },
      "execution_count": null,
      "outputs": [
        {
          "output_type": "stream",
          "name": "stdout",
          "text": [
            "wonderland\n",
            "wonderland\n"
          ]
        }
      ]
    },
    {
      "cell_type": "markdown",
      "source": [
        "# Adding and Updating Dictionary Items"
      ],
      "metadata": {
        "id": "q_yk5Vom6ZxO"
      }
    },
    {
      "cell_type": "code",
      "source": [
        "d={1:'games', 2:'in the', 3:'wonderland'}\n",
        "\n",
        "#adding a new key-value pair\n",
        "d[\"age of the person\"]=1000\n",
        "#updating an existing value\n",
        "d[1]=\"alice\"\n",
        "print(d)"
      ],
      "metadata": {
        "colab": {
          "base_uri": "https://localhost:8080/"
        },
        "id": "aD-sXu_95c-1",
        "outputId": "90553106-ba05-44fd-b199-6c8106f3e985"
      },
      "execution_count": null,
      "outputs": [
        {
          "output_type": "stream",
          "name": "stdout",
          "text": [
            "{1: 'alice', 2: 'in the', 3: 'wonderland', 'age of the person': 1000}\n"
          ]
        }
      ]
    },
    {
      "cell_type": "code",
      "source": [
        "print(\"Hello, World!\")\n",
        "\n",
        "x = \"Python\"\n",
        "y = \"is\"\n",
        "z = \"awesome\"\n",
        "print(x, y, z)"
      ],
      "metadata": {
        "colab": {
          "base_uri": "https://localhost:8080/"
        },
        "id": "HVa7Hry298z2",
        "outputId": "12e2d58e-13b5-4972-d1f2-c830f14f716b"
      },
      "execution_count": null,
      "outputs": [
        {
          "output_type": "stream",
          "name": "stdout",
          "text": [
            "Hello, World!\n",
            "Python is awesome\n"
          ]
        }
      ]
    }
  ]
}