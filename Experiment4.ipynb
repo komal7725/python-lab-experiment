{
  "nbformat": 4,
  "nbformat_minor": 0,
  "metadata": {
    "colab": {
      "provenance": []
    },
    "kernelspec": {
      "name": "python3",
      "display_name": "Python 3"
    },
    "language_info": {
      "name": "python"
    }
  },
  "cells": [
    {
      "cell_type": "code",
      "source": [
        "from contextlib import contextmanager\n",
        "\n",
        "@contextmanager\n",
        "def genericFileFunction(filename, method):\n",
        "    file = open(filename, method)\n",
        "    yield file\n",
        "    file.close()\n",
        "\n",
        "if __name__ == '__main__':\n",
        "    filename = \"exp4.txt\"\n",
        "\n",
        "    with genericFileFunction(filename, 'w') as file:\n",
        "        file.write(\"This is the first line .\\n\")\n",
        "\n",
        "    with genericFileFunction(filename, 'r') as file:\n",
        "        content_before_appending = file.read()\n",
        "\n",
        "    with genericFileFunction(filename, 'a') as file:\n",
        "        file.write(\"This is the appended line .\\n\")\n",
        "\n",
        "    with genericFileFunction(filename, 'r') as file:\n",
        "        content_after_appending = file.read()\n",
        "\n",
        "    print(\"Content before appending:\\n\", content_before_appending)\n",
        "    print(\"Content after appending:\\n\", content_after_appending)\n"
      ],
      "metadata": {
        "colab": {
          "base_uri": "https://localhost:8080/"
        },
        "id": "HV1bm7HeBAWz",
        "outputId": "6fff4f81-97f8-47ef-d061-d0a69e3565d9"
      },
      "execution_count": 6,
      "outputs": [
        {
          "output_type": "stream",
          "name": "stdout",
          "text": [
            "Content before appending:\n",
            " This is the first line .\n",
            "\n",
            "Content after appending:\n",
            " This is the first line .\n",
            "This is the appended line .\n",
            "\n"
          ]
        }
      ]
    }
  ]
}