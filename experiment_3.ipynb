{
  "nbformat": 4,
  "nbformat_minor": 0,
  "metadata": {
    "colab": {
      "provenance": []
    },
    "kernelspec": {
      "name": "python3",
      "display_name": "Python 3"
    },
    "language_info": {
      "name": "python"
    }
  },
  "cells": [
    {
      "cell_type": "code",
      "execution_count": 1,
      "metadata": {
        "colab": {
          "base_uri": "https://localhost:8080/"
        },
        "id": "emvJgbA8LqXU",
        "outputId": "38888f09-dc1d-43a9-f3f2-5294c5d7fd48"
      },
      "outputs": [
        {
          "output_type": "stream",
          "name": "stdout",
          "text": [
            "False\n"
          ]
        }
      ],
      "source": [
        "class conditionalStatements:\n",
        "    def checkString(self, s: str) -> bool:\n",
        "        found_b = False\n",
        "\n",
        "        for char in s:\n",
        "            if char == 'b':\n",
        "                found_b = True\n",
        "            elif char == 'a' and found_b:\n",
        "\n",
        "                return False\n",
        "        return True\n",
        "s = \"abab\"\n",
        "obj = conditionalStatements()\n",
        "print(obj.checkString(s))\n"
      ]
    },
    {
      "cell_type": "code",
      "source": [
        "class conditionalStatements:\n",
        "    def checkString(self, s: str) -> bool:\n",
        "        found_b = False\n",
        "\n",
        "        for char in s:\n",
        "            if char == 'b':\n",
        "                found_b = True\n",
        "            elif char == 'a' and found_b:\n",
        "\n",
        "                return False\n",
        "        return True\n",
        "s = \"aaabbb\"\n",
        "obj = conditionalStatements()\n",
        "print(obj.checkString(s))\n"
      ],
      "metadata": {
        "colab": {
          "base_uri": "https://localhost:8080/"
        },
        "id": "BBC7BDigLzUp",
        "outputId": "074a8c1d-c5e3-4fbf-b755-69e53a692ad4"
      },
      "execution_count": 2,
      "outputs": [
        {
          "output_type": "stream",
          "name": "stdout",
          "text": [
            "True\n"
          ]
        }
      ]
    },
    {
      "cell_type": "code",
      "source": [
        "class conditionalStatements:\n",
        "    def checkString(self, s: str) -> bool:\n",
        "        found_b = False\n",
        "\n",
        "        for char in s:\n",
        "            if char == 'b':\n",
        "                found_b = True\n",
        "            elif char == 'a' and found_b:\n",
        "\n",
        "                return False\n",
        "        return True\n",
        "s = \"bbb\"\n",
        "obj = conditionalStatements()\n",
        "print(obj.checkString(s))\n"
      ],
      "metadata": {
        "colab": {
          "base_uri": "https://localhost:8080/"
        },
        "id": "PZ3rY5OYL2hw",
        "outputId": "0f36935a-cf43-45a5-d048-b1e16ab676f5"
      },
      "execution_count": 3,
      "outputs": [
        {
          "output_type": "stream",
          "name": "stdout",
          "text": [
            "True\n"
          ]
        }
      ]
    }
  ]
}